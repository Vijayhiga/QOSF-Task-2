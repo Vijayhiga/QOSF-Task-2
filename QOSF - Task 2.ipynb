{
 "cells": [
  {
   "cell_type": "markdown",
   "metadata": {},
   "source": [
    "# QOSF - Task 2 \n",
    "\n",
    "## Dependencies\n",
    "\n",
    "Qiskit \n",
    "  > !pip install qiskit\n",
    "\n",
    "<ins>Question</ins> \n",
    "\n",
    "Implement a circuit that returns $|01\\rangle$ and $|10\\rangle$ with equal probability.\n",
    "\n",
    "<ins>Requirements</ins> \n",
    "- The circuit should consist only of CNOTs, RXs and RYs. \n",
    "- Start from all parameters in parametric gates being equal to 0 or randomly chosen. \n",
    "- You should find the right set of parameters using gradient descent (you can use more advanced optimization methods if you like). \n",
    "- Simulations must be done with sampling - i.e. a limited number of measurements per iteration and noise. \n",
    "\n",
    "Compare the results for different numbers of measurements: 1, 10, 100, 1000. \n",
    "\n",
    "<ins>Bonus question:</ins>  \n",
    "\n",
    "How to make sure you produce state $|01\\rangle$ + $|10\\rangle$ and not $|01\\rangle$ - $|10\\rangle$?"
   ]
  },
  {
   "cell_type": "code",
   "execution_count": 1,
   "metadata": {},
   "outputs": [],
   "source": [
    "#Importing the nesessary libary. For this task I would be making use of Qiskit\n",
    "from qiskit import execute, QuantumCircuit, Aer \n",
    "#For noise\n",
    "import qiskit.providers.aer.noise as noise\n",
    "import numpy as np\n",
    "import random\n",
    "import matplotlib.pyplot as plt"
   ]
  },
  {
   "cell_type": "markdown",
   "metadata": {},
   "source": [
    "## Implementation of the Quantum Circuit \n",
    "\n",
    "From the use of the Controlled-NOT (CNOT) gate, X gate, and Hadamard gate, we can implement the quantum circuit that $|01\\rangle$ and $|10\\rangle$ with equal probability. \n",
    "\n",
    "<ins>Circuit</ins>\n",
    "\n",
    "1) We use $|00\\rangle$, as our starting state.\n",
    "\n",
    "2) We apply X gate to Qubit 2 and H gate to Qubit 1.\n",
    "\n",
    "3) Then we apply the CNOT gate with target as Qubit 2 with control input as Qubit 1.\n",
    "\n",
    "We get the following equal probability of 0.5 ideally when we measure $\\frac{|01\\rangle + |10\\rangle}{\\sqrt{2}}$\n",
    "\n",
    "***The following gates can be implemented using Rx, Ry, and Cx gates.***"
   ]
  },
  {
   "cell_type": "code",
   "execution_count": 2,
   "metadata": {},
   "outputs": [],
   "source": [
    "#The Quantum Circuit Model \n",
    "circuit = QuantumCircuit(2)"
   ]
  },
  {
   "cell_type": "code",
   "execution_count": 3,
   "metadata": {
    "scrolled": true
   },
   "outputs": [
    {
     "data": {
      "text/plain": [
       "<qiskit.circuit.instructionset.InstructionSet at 0x20d45e06af0>"
      ]
     },
     "execution_count": 3,
     "metadata": {},
     "output_type": "execute_result"
    }
   ],
   "source": [
    "# Appling the H gate of Qubit 0\n",
    "circuit.ry(np.pi/2,0)\n",
    "circuit.rx(np.pi/2,0)"
   ]
  },
  {
   "cell_type": "code",
   "execution_count": 4,
   "metadata": {},
   "outputs": [
    {
     "data": {
      "text/plain": [
       "<qiskit.circuit.instructionset.InstructionSet at 0x20d207fda90>"
      ]
     },
     "execution_count": 4,
     "metadata": {},
     "output_type": "execute_result"
    }
   ],
   "source": [
    "# Appling the H gate of Qubit 1\n",
    "circuit.ry(np.pi,1)"
   ]
  },
  {
   "cell_type": "code",
   "execution_count": 5,
   "metadata": {},
   "outputs": [
    {
     "data": {
      "text/plain": [
       "<qiskit.circuit.instructionset.InstructionSet at 0x20d207fd9a0>"
      ]
     },
     "execution_count": 5,
     "metadata": {},
     "output_type": "execute_result"
    }
   ],
   "source": [
    "# Applying CNOT gate with \n",
    "# qubit 0 - control qubit \n",
    "# qubit 1 - targer qubit\n",
    "circuit.cx(0,1)"
   ]
  },
  {
   "cell_type": "code",
   "execution_count": 6,
   "metadata": {},
   "outputs": [
    {
     "data": {
      "text/html": [
       "<pre style=\"word-wrap: normal;white-space: pre;background: #fff0;line-height: 1.1;font-family: &quot;Courier New&quot;,Courier,monospace\">     ┌──────────┐┌──────────┐     \n",
       "q_0: ┤ RY(pi/2) ├┤ RX(pi/2) ├──■──\n",
       "     └┬────────┬┘└──────────┘┌─┴─┐\n",
       "q_1: ─┤ RY(pi) ├─────────────┤ X ├\n",
       "      └────────┘             └───┘</pre>"
      ],
      "text/plain": [
       "     ┌──────────┐┌──────────┐     \n",
       "q_0: ┤ RY(pi/2) ├┤ RX(pi/2) ├──■──\n",
       "     └┬────────┬┘└──────────┘┌─┴─┐\n",
       "q_1: ─┤ RY(pi) ├─────────────┤ X ├\n",
       "      └────────┘             └───┘"
      ]
     },
     "execution_count": 6,
     "metadata": {},
     "output_type": "execute_result"
    }
   ],
   "source": [
    "#Visualizing the circuit\n",
    "circuit.draw()"
   ]
  },
  {
   "cell_type": "code",
   "execution_count": 7,
   "metadata": {},
   "outputs": [
    {
     "name": "stdout",
     "output_type": "stream",
     "text": [
      "probability of 00 - 0.5\n",
      "probability of 01 - 0.5\n",
      "\n"
     ]
    }
   ],
   "source": [
    "#Executing the circuit without noice\n",
    "simulator = Aer.get_backend('qasm_simulator')\n",
    "backend = Aer.get_backend('statevector_simulator')\n",
    "test_result = execute(circuit, backend, shots=1000).result()\n",
    "probabilities = test_result.get_counts() \n",
    "\n",
    "print(\"probability of 00 - \" + str(probabilities[\"01\"]) + \"\\n\" \"probability of 01 - \" + str(probabilities['10']) + \"\\n\")"
   ]
  },
  {
   "cell_type": "markdown",
   "metadata": {},
   "source": [
    "## Hyperparamters for the gradient descent algorithm (with momentum)\n",
    "\n",
    "Learning rate\n",
    "> lr = 0.1\n",
    "\n",
    "Momentum Coefficent\n",
    "> momentum_c = 0.65\n",
    "\n",
    "Number of Iterations\n",
    "> iterations = 1000"
   ]
  },
  {
   "cell_type": "code",
   "execution_count": 8,
   "metadata": {},
   "outputs": [],
   "source": [
    "#Hyperparameters\n",
    "lr = 0.1\n",
    "momentum_c = 0.65\n",
    "iterations = 1000\n",
    "measurement_count = [1000, 100, 10 , 1]\n",
    "\n",
    "x_probability = {\"1000\": [], \"100\": [], \"10\": [], \"1\": []}\n",
    "equal_probability = {\"1000\": [], \"100\": [], \"10\": [], \"1\": []}\n",
    "h_probability = {\"1000\": [], \"100\": [], \"10\": [], \"1\": []}"
   ]
  },
  {
   "cell_type": "code",
   "execution_count": 9,
   "metadata": {},
   "outputs": [],
   "source": [
    "#Returns the measurements\n",
    "def measurement(circuit, measurements):    \n",
    "    circuit.measure_all()\n",
    "    result = execute(circuit, simulator, shots = measurements, noise_model=noise.NoiseModel()).result()\n",
    "    return(result.get_counts(circuit))\n",
    "\n",
    "#Returns the state\n",
    "def statevector(circuit):\n",
    "    return(execute(circuit, backend).result().get_statevector())    "
   ]
  },
  {
   "cell_type": "code",
   "execution_count": 10,
   "metadata": {},
   "outputs": [],
   "source": [
    "#Return the probalility of all the states of N - Qubit\n",
    "def probability_function(no_of_qubit, measurements, measurement_count):\n",
    "    result = np.zeros(no_of_qubit)\n",
    "    for i in measurements.keys():\n",
    "        result[int(i,2)] = int(measurements[i]) / measurement_count\n",
    "    return(result)"
   ]
  },
  {
   "cell_type": "markdown",
   "metadata": {},
   "source": [
    "<ins>Objective function for X Gate</ins>\n",
    "\n",
    "( Probability($|0\\rangle$) - $0 )^2$ + ( Probability($|1\\rangle$) - $1 )^2$\n",
    "\n",
    "\n",
    "<ins>Objective function for returning $|10\\rangle$  and  $|01\\rangle$  with equal probability</ins>\n",
    "\n",
    "( Probability($|0\\rangle$) - $\\frac{1}{2} )^2$ + ( Probability($|1\\rangle$) - $\\frac{1}{2} )^2$\n",
    "\n",
    "\n",
    "<ins>For the bonus question, the following is the objective function</ins>\n",
    "\n",
    "The state-vector of the parametric circuit in state $|0\\rangle$  is compared to the Hadamard gate application in state $|0\\rangle$ .\n",
    "\n",
    "( Statevector$[0]$.real - $\\frac{1}{\\sqrt{2}} )^2$ + ( Statevector$[1]$.real - $\\frac{1}{\\sqrt{2}} )^2$ "
   ]
  },
  {
   "cell_type": "code",
   "execution_count": 11,
   "metadata": {},
   "outputs": [],
   "source": [
    "#Objective function for X-Gate \n",
    "def objective_function_X(parameters, measurement_count):\n",
    "    circuit = QuantumCircuit(1) \n",
    "    # X gate on qubit 1    \n",
    "    circuit.ry(parameters[0], 0)    \n",
    "    count = measurement(circuit, measurement_count)\n",
    "    probability = probability_function(2, count, measurement_count) \n",
    "    cost = ((float(probability[0]) - 0)**2 + (float(probability[1]) - 1)**2)\n",
    "    return cost\n",
    "\n",
    "#Objective function for returning |10⟩  and  |01⟩  with equal probability     \n",
    "def equal_objective_function(parameters, measurement_count):\n",
    "    circuit = QuantumCircuit(1)    \n",
    "    circuit.ry(parameters[0],0)\n",
    "    circuit.rx(parameters[1],0)\n",
    "    count = measurement(circuit, measurement_count)\n",
    "    probability = probability_function(4, count, measurement_count)    \n",
    "    cost = ((float(probability[0]) - 0.5)**2 + (float(probability[1]) - 0.5)**2)\n",
    "    return cost    \n",
    "\n",
    "#Objective function for returning 0.7070 x (|10⟩  +  |01⟩) with equal probability, and avoiding other combinations.\n",
    "def objective_function_h(parameters, measurement_count):\n",
    "    circuit = QuantumCircuit(1)    \n",
    "    circuit.ry(parameters[0],0)\n",
    "    circuit.rx(parameters[1],0)\n",
    "    state_vector = statevector(circuit)\n",
    "    objective_value = ((float(state_vector[0].real) - (1/2)**(1/2))**2 + (float(state_vector[1].real) - (1/2)**(1/2))**2)\n",
    "    return objective_value"
   ]
  },
  {
   "cell_type": "markdown",
   "metadata": {},
   "source": [
    "## Gradient Descent with momentum implementation with the specified hyper parameters"
   ]
  },
  {
   "cell_type": "code",
   "execution_count": 12,
   "metadata": {},
   "outputs": [],
   "source": [
    "#Initializes the parameters randomly for the parameter vector \n",
    "def parameter_initialization(circuit_gates):    \n",
    "    params = np.random.uniform(low = 0, high = 2 * np.pi , size=(circuit_gates,))\n",
    "    return params\n",
    "\n",
    "#The parameter update rule for the gradient descent algorithm \n",
    "def update_parameters(parameters, gradient_value, momentum):    \n",
    "    parameters =  parameters - lr * (gradient_value * momentum_c + (1 - momentum_c) * momentum)\n",
    "    parameters =  parameters % (2*np.pi) \n",
    "    return(parameters)    \n",
    "\n",
    "#Calculates the derivative of the cost function using the first principle \n",
    "def gradient_step(iteration, cost_function, parameters, measurement_count, momentum):   \n",
    "    upper_limit = cost_function(parameters + 0.005, measurement_count)\n",
    "    lower_limit = cost_function(parameters, measurement_count)    \n",
    "    gradient_value = (upper_limit - lower_limit) / 0.005 \n",
    "    \n",
    "    if (iteration == 0):\n",
    "        momentum = gradient_value\n",
    "        \n",
    "    parameters = update_parameters(parameters, gradient_value, momentum)\n",
    "    momentum = gradient_value\n",
    "    return(parameters, momentum)                         \n",
    "\n",
    "#Performs gradient descent\n",
    "def gradient_descent(initial_parameter, cost_function, measurement_count):\n",
    "    momentum = 0\n",
    "    global_min_cost = cost_function(initial_parameter, measurement_count)\n",
    "    global_min_parameter = initial_parameter\n",
    "    \n",
    "    for i in range(iterations):\n",
    "        updated_parameter, momentum = gradient_step(i, cost_function, initial_parameter, measurement_count,  momentum)\n",
    "        initial_parameter = updated_parameter\n",
    "        reference_cost = cost_function(initial_parameter, measurement_count)        \n",
    "        \n",
    "        if (reference_cost == 0):\n",
    "            global_min_cost = reference_cost\n",
    "            global_min_parameter = initial_parameter           \n",
    "        \n",
    "        elif (reference_cost < global_min_cost):\n",
    "            global_min_cost = reference_cost\n",
    "            global_min_parameter = initial_parameter    \n",
    "\n",
    "    print(\"Minimized cost value = \" + str(global_min_cost))\n",
    "    print(\"Minimized parameter = \" + str(global_min_parameter))\n",
    "    print(\"\\n\")\n",
    "    \n",
    "    return (global_min_cost , global_min_parameter)"
   ]
  },
  {
   "cell_type": "code",
   "execution_count": 13,
   "metadata": {
    "scrolled": true
   },
   "outputs": [
    {
     "name": "stdout",
     "output_type": "stream",
     "text": [
      "Initial parameter =  [0.77943382]\n",
      "\n",
      "Measurements:  1000\n",
      "Minimized cost value = 0.0\n",
      "Minimized parameter = [3.08312382]\n",
      "\n",
      "\n",
      "\n",
      "Measurements:  100\n",
      "Minimized cost value = 0.0\n",
      "Minimized parameter = [3.11401913]\n",
      "\n",
      "\n",
      "\n",
      "Measurements:  10\n",
      "Minimized cost value = 0.0\n",
      "Minimized parameter = [3.16032198]\n",
      "\n",
      "\n",
      "\n",
      "Measurements:  1\n",
      "Minimized cost value = 0.0\n",
      "Minimized parameter = [3.08032198]\n",
      "\n",
      "\n"
     ]
    }
   ],
   "source": [
    "circuit_gates = 1\n",
    "initial_parameter = parameter_initialization(circuit_gates)\n",
    "print(\"Initial parameter = \", initial_parameter)\n",
    "\n",
    "for i in range(4):\n",
    "    print(\"\\nMeasurements = \", measurement_count[i])    \n",
    "    x_probability[str(measurement_count[i])] = gradient_descent(initial_params, objective_function_X, measurement_count[i])    "
   ]
  },
  {
   "cell_type": "code",
   "execution_count": 14,
   "metadata": {},
   "outputs": [
    {
     "name": "stdout",
     "output_type": "stream",
     "text": [
      "Initial param:  [6.24351446 4.83990833]\n",
      "\n",
      "Measurements:  1000\n",
      "Minimized cost value = 0.0\n",
      "Minimized parameter = [1.59220446 0.18859833]\n",
      "\n",
      "\n",
      "\n",
      "Measurements:  100\n",
      "Minimized cost value = 0.0\n",
      "Minimized parameter = [2.94991446 1.54630833]\n",
      "\n",
      "\n",
      "\n",
      "Measurements:  10\n",
      "Minimized cost value = 0.0\n",
      "Minimized parameter = [4.06669977 2.66309363]\n",
      "\n",
      "\n",
      "\n",
      "Measurements:  1\n",
      "Minimized cost value = 0.5\n",
      "Minimized parameter = [6.24351446 4.83990833]\n",
      "\n",
      "\n"
     ]
    }
   ],
   "source": [
    "circuit_gates = 2\n",
    "initial_parameter = parameter_initialization(circuit_gates)\n",
    "print(\"Initial parameter = \", initial_parameter)\n",
    "\n",
    "for i in range(4):\n",
    "    print(\"\\nMeasurements = \", measurement_count[i])    \n",
    "    equal_probability[str(measurement_count[i])]  = gradient_descent(initial_parameter, equal_objective_function, measurement_count[i])"
   ]
  },
  {
   "cell_type": "code",
   "execution_count": 15,
   "metadata": {},
   "outputs": [],
   "source": [
    "def parametric_quantum_circuit(mode, parameter_x , parameter_e, measurement_count):\n",
    "    circuit = QuantumCircuit(2) \n",
    "    circuit.ry(parameter_x[0], 1)\n",
    "    circuit.ry(parameter_e[0],0)\n",
    "    circuit.rx(parameter_e[1],0)\n",
    "    circuit.cx(0,1)    \n",
    "    state_vector = statevector(circuit)\n",
    "    samples = measurement(circuit, measurement_count)   \n",
    "    \n",
    "    #Mode = 1 is for bonus question\n",
    "    if (mode == 1):\n",
    "        return(state_vector)    \n",
    "    \n",
    "    else:\n",
    "        return(samples)\n",
    "    \n",
    "def results(x_probability, equal_probability):\n",
    "   \n",
    "    samples = []\n",
    "    objective_value = []\n",
    "    \n",
    "    for i in range(4):    \n",
    "        \n",
    "        samples.append(parametric_quantum_circuit(0,x_probability[str(measurement_count[i])][1], \n",
    "                                                  equal_probability[str(measurement_count[i])][1], \n",
    "                                                  measurement_count[i])) \n",
    "        \n",
    "        probability = probability_function(4, samples[i], measurement_count[i])\n",
    "        objective_value.append(((float(probability[0]) - 0)**2 + (float(probability[1]) - 0.5)**2 + (float(probability[2]) - 0.5)**2 + (float(probability[3]) - 0)**2))\n",
    "      \n",
    "               \n",
    "    return samples, objective_value"
   ]
  },
  {
   "cell_type": "code",
   "execution_count": 16,
   "metadata": {},
   "outputs": [],
   "source": [
    "samples, objective_value = results(x_probability, equal_probability)"
   ]
  },
  {
   "cell_type": "markdown",
   "metadata": {},
   "source": [
    "# Results\n",
    "\n",
    "We can infer from the results that as the number of measurements increases, the loss decreases i.e, the error decreases. "
   ]
  },
  {
   "cell_type": "code",
   "execution_count": 17,
   "metadata": {},
   "outputs": [
    {
     "data": {
      "text/plain": [
       "Text(0, 0.5, 'Loss Function')"
      ]
     },
     "execution_count": 17,
     "metadata": {},
     "output_type": "execute_result"
    },
    {
     "data": {
      "image/png": "[encoded data removed]",
      "text/plain": [
       "<Figure size 432x288 with 1 Axes>"
      ]
     },
     "metadata": {
      "needs_background": "light"
     },
     "output_type": "display_data"
    }
   ],
   "source": [
    "plt.plot(['1000', '100', '10', '1'], objective_value, 'ro')\n",
    "plt.plot(['1000', '100', '10', '1'], objective_value)\n",
    "plt.xlabel('Number of Measurements')\n",
    "plt.ylabel('Loss Function')"
   ]
  },
  {
   "cell_type": "code",
   "execution_count": 18,
   "metadata": {},
   "outputs": [
    {
     "data": {
      "image/png": "[encoded data removed]",
      "text/plain": [
       "<Figure size 504x360 with 1 Axes>"
      ]
     },
     "execution_count": 18,
     "metadata": {},
     "output_type": "execute_result"
    }
   ],
   "source": [
    "from qiskit.visualization import plot_histogram\n",
    "plot_histogram(samples[0], title=\"Measurements = 1000\")"
   ]
  },
  {
   "cell_type": "code",
   "execution_count": 19,
   "metadata": {},
   "outputs": [
    {
     "data": {
      "image/png": "[encoded data removed]",
      "text/plain": [
       "<Figure size 504x360 with 1 Axes>"
      ]
     },
     "execution_count": 19,
     "metadata": {},
     "output_type": "execute_result"
    }
   ],
   "source": [
    "plot_histogram(samples[1], title=\"Measurements = 100\")"
   ]
  },
  {
   "cell_type": "code",
   "execution_count": 20,
   "metadata": {},
   "outputs": [
    {
     "data": {
      "image/png": "[encoded data removed]",
      "text/plain": [
       "<Figure size 504x360 with 1 Axes>"
      ]
     },
     "execution_count": 20,
     "metadata": {},
     "output_type": "execute_result"
    }
   ],
   "source": [
    "plot_histogram(samples[2], title=\"Measurements = 10\")"
   ]
  },
  {
   "cell_type": "code",
   "execution_count": 21,
   "metadata": {},
   "outputs": [
    {
     "data": {
      "image/png": "[encoded data removed]",
      "text/plain": [
       "<Figure size 504x360 with 1 Axes>"
      ]
     },
     "execution_count": 21,
     "metadata": {},
     "output_type": "execute_result"
    }
   ],
   "source": [
    "plot_histogram(samples[3], title=\"Measurements = 1\")"
   ]
  },
  {
   "cell_type": "markdown",
   "metadata": {},
   "source": [
    "# Bonus Question"
   ]
  },
  {
   "cell_type": "code",
   "execution_count": 22,
   "metadata": {},
   "outputs": [
    {
     "name": "stdout",
     "output_type": "stream",
     "text": [
      "Initial parameters:  [1.40604176 4.01372402]\n",
      "\n",
      "Measurements:  1000\n",
      "Minimized cost value = 4.0472443328469585e-07\n",
      "Minimized parameter = [1.56830213 4.17598439]\n",
      "\n",
      "\n",
      "\n",
      "Measurements:  100\n",
      "Minimized cost value = 4.0472443328469585e-07\n",
      "Minimized parameter = [1.56830213 4.17598439]\n",
      "\n",
      "\n",
      "\n",
      "Measurements:  10\n",
      "Minimized cost value = 4.0472443328469585e-07\n",
      "Minimized parameter = [1.56830213 4.17598439]\n",
      "\n",
      "\n",
      "\n",
      "Measurements:  1\n",
      "Minimized cost value = 4.0472443328469585e-07\n",
      "Minimized parameter = [1.56830213 4.17598439]\n",
      "\n",
      "\n"
     ]
    }
   ],
   "source": [
    "#Bonus Question\n",
    "circuit_gates = 2\n",
    "initial_parameters = parameter_initialization(circuit_gates)\n",
    "print(\"Initial parameters = \", initial_parameters)\n",
    "\n",
    "for i in range(4):\n",
    "    print(\"\\nMeasurements = \", measurement_count[i])    \n",
    "    h_probability[str(measurement_count[i])]  = gradient_descent(initial_parameters, objective_function_h, measurement_count[i])"
   ]
  },
  {
   "cell_type": "markdown",
   "metadata": {},
   "source": [
    "# Results for the bonus question \n",
    "\n",
    "We can see that the state vector correspond close to 0.7070 x ($|01\\rangle$ + $|10\\rangle$), and not 0.7070 x ($|01\\rangle$ - $|10\\rangle$)"
   ]
  },
  {
   "cell_type": "code",
   "execution_count": 23,
   "metadata": {},
   "outputs": [
    {
     "name": "stdout",
     "output_type": "stream",
     "text": [
      "[0.02065573+0.00000000e+00j 0.70725334+1.51627779e-03j\n",
      " 0.70635403+0.00000000e+00j 0.02068203+4.43401298e-05j]\n"
     ]
    }
   ],
   "source": [
    "state_vector = parametric_quantum_circuit(1, x_probability[\"1000\"][1] , h_probability[\"1000\"][1], 1000)\n",
    "print(state_vector)"
   ]
  },
  {
   "cell_type": "code",
   "execution_count": 24,
   "metadata": {},
   "outputs": [],
   "source": [
    "samples, objective_value = results(x_probability, h_probability)"
   ]
  },
  {
   "cell_type": "code",
   "execution_count": 25,
   "metadata": {},
   "outputs": [
    {
     "data": {
      "image/png": "[encoded data removed]",
      "text/plain": [
       "<Figure size 504x360 with 1 Axes>"
      ]
     },
     "execution_count": 25,
     "metadata": {},
     "output_type": "execute_result"
    }
   ],
   "source": [
    "plot_histogram(samples[0], title=\"Measurements = 1000\")"
   ]
  },
  {
   "cell_type": "code",
   "execution_count": 26,
   "metadata": {},
   "outputs": [
    {
     "data": {
      "image/png": "[encoded data removed]",
      "text/plain": [
       "<Figure size 504x360 with 1 Axes>"
      ]
     },
     "execution_count": 26,
     "metadata": {},
     "output_type": "execute_result"
    }
   ],
   "source": [
    "plot_histogram(samples[1], title=\"Measurements = 100\")"
   ]
  },
  {
   "cell_type": "code",
   "execution_count": 27,
   "metadata": {},
   "outputs": [
    {
     "data": {
      "image/png": "[encoded data removed]",
      "text/plain": [
       "<Figure size 504x360 with 1 Axes>"
      ]
     },
     "execution_count": 27,
     "metadata": {},
     "output_type": "execute_result"
    }
   ],
   "source": [
    "plot_histogram(samples[2], title=\"Measurements = 10\")"
   ]
  },
  {
   "cell_type": "code",
   "execution_count": 28,
   "metadata": {},
   "outputs": [
    {
     "data": {
      "image/png": "[encoded data removed]",
      "text/plain": [
       "<Figure size 504x360 with 1 Axes>"
      ]
     },
     "execution_count": 28,
     "metadata": {},
     "output_type": "execute_result"
    }
   ],
   "source": [
    "plot_histogram(samples[3], title=\"Measurements = 1\")"
   ]
  }
 ],
 "metadata": {
  "kernelspec": {
   "display_name": "Python 3",
   "language": "python",
   "name": "python3"
  },
  "language_info": {
   "codemirror_mode": {
    "name": "ipython",
    "version": 3
   },
   "file_extension": ".py",
   "mimetype": "text/x-python",
   "name": "python",
   "nbconvert_exporter": "python",
   "pygments_lexer": "ipython3",
   "version": "3.8.3"
  }
 },
 "nbformat": 4,
 "nbformat_minor": 4
}
